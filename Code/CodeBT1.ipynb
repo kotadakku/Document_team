{
  "nbformat": 4,
  "nbformat_minor": 0,
  "metadata": {
    "colab": {
      "name": "NguyenVanHuu_175A071167_BaiTap!.ipynb",
      "provenance": [],
      "collapsed_sections": []
    },
    "kernelspec": {
      "name": "python3",
      "display_name": "Python 3"
    }
  },
  "cells": [
    {
      "cell_type": "markdown",
      "metadata": {
        "id": "M3SVuo0MEMh4",
        "colab_type": "text"
      },
      "source": [
        ""
      ]
    },
    {
      "cell_type": "markdown",
      "metadata": {
        "id": "z0yVyOhetvlE",
        "colab_type": "text"
      },
      "source": [
        "Bài 1"
      ]
    },
    {
      "cell_type": "code",
      "metadata": {
        "id": "Fl9MYMl8ENDS",
        "colab_type": "code",
        "outputId": "ca0904d6-8e31-4d35-ff8c-ac9b9bfe47f0",
        "colab": {
          "base_uri": "https://localhost:8080/",
          "height": 334
        }
      },
      "source": [
        "import matplotlib.pyplot as plt\n",
        "import numpy as np\n",
        "from sklearn.linear_model import LinearRegression \n",
        "\n",
        "X=np.array([[147,150,153,155,158,160,163,165,168,170,173,175,178,180,183]]).T\n",
        "y=np.array([49,50,51,53,54,56,58,59,60,71,63,64,66,67,70])\n",
        "regr = LinearRegression()\n",
        "regr.fit(X,y)\n",
        "print(\"w1=%s, w0= %s\"%(regr.coef_ [0],regr.intercept_))\n",
        "print(\"Phuong trinh hoi quy: y = x* %s+ %s\"%(regr.coef_ [0],regr.intercept_))\n",
        "prediction = regr.predict([[159]])\n",
        "print(\"Du doan can nang cua nguoi co chieu cao 159 cm la: %s kg\"%prediction[0])\n",
        "x0 = np.linspace(145, 185, 2)\n",
        "w0 = regr.intercept_\n",
        "w1 = regr.coef_ [0]\n",
        "y0 = x0*w1 + w0\n",
        "\n",
        "plt.plot(X,y, \"bo\")\n",
        "plt.plot(x0,y0,\"-r\")\n",
        "plt.ylabel(\"Can nang(kg)\")\n",
        "plt.xlabel(\"Chieu cao(cm)\")\n",
        "plt.show()\n"
      ],
      "execution_count": 0,
      "outputs": [
        {
          "output_type": "stream",
          "text": [
            "w1=0.6022167487684729, w0= -40.08620689655171\n",
            "Phuong trinh hoi quy: y = x* 0.6022167487684729+ -40.08620689655171\n",
            "Du doan can nang cua nguoi co chieu cao 159 cm la: 55.66625615763548 kg\n"
          ],
          "name": "stdout"
        },
        {
          "output_type": "display_data",
          "data": {
            "image/png": "[encoded data removed]",
            "text/plain": [
              "<Figure size 432x288 with 1 Axes>"
            ]
          },
          "metadata": {
            "tags": []
          }
        }
      ]
    },
    {
      "cell_type": "markdown",
      "metadata": {
        "id": "O1R6tqP1t02D",
        "colab_type": "text"
      },
      "source": [
        "Bài 2\n"
      ]
    },
    {
      "cell_type": "code",
      "metadata": {
        "id": "Hauobwjft0h1",
        "colab_type": "code",
        "outputId": "8ce61e8b-8705-4a5e-dfde-1293deb929bf",
        "colab": {
          "base_uri": "https://localhost:8080/",
          "height": 334
        }
      },
      "source": [
        "import numpy as np\n",
        "from sklearn.linear_model import LinearRegression\n",
        "\n",
        "X= np.array([[17.5,15.6,9.8,5.3,7.9,10,19.2,13.1]]).T\n",
        "y= np.array([14.2,11.7,6.4,2.1,4.8,8.1,15.4,9.8])\n",
        "\n",
        "regr = LinearRegression()\n",
        "regr.fit(X,y)\n",
        "print(\"w1=%s, w0= %s\"%(regr.coef_ [0],regr.intercept_))\n",
        "print(\"Phuong trinh hoi quy: y = x* %s+ %s\"%(regr.coef_ [0],regr.intercept_))\n",
        "prediction = regr.predict([[11]])\n",
        "print(\"Du doan ty le lam phat o muc lai suat 11 la : %s \"%prediction[0])\n",
        "x0 = np.linspace(0, 25, 2)\n",
        "w0 = regr.intercept_\n",
        "w1 = regr.coef_ [0]\n",
        "y0 = x0*w1 + w0\n",
        "\n",
        "plt.plot(X,y, \"bo\")\n",
        "plt.plot(x0,y0,\"-r\")\n",
        "plt.ylabel(\"Ty le lam phat\")\n",
        "plt.xlabel(\"Muc lai suat\")\n",
        "plt.show()"
      ],
      "execution_count": 0,
      "outputs": [
        {
          "output_type": "stream",
          "text": [
            "w1=0.9399084778420044, w0= -2.498374277456655\n",
            "Phuong trinh hoi quy: y = x* 0.9399084778420044+ -2.498374277456655\n",
            "Du doan ty le lam phat o muc lai suat 11 la : 7.840618978805393 \n"
          ],
          "name": "stdout"
        },
        {
          "output_type": "display_data",
          "data": {
            "image/png": "[encoded data removed]",
            "text/plain": [
              "<Figure size 432x288 with 1 Axes>"
            ]
          },
          "metadata": {
            "tags": []
          }
        }
      ]
    },
    {
      "cell_type": "markdown",
      "metadata": {
        "id": "X2pfP85gvXh-",
        "colab_type": "text"
      },
      "source": [
        "Bai3\n",
        "a)\n"
      ]
    },
    {
      "cell_type": "code",
      "metadata": {
        "id": "UKsuCZ_Fvoff",
        "colab_type": "code",
        "outputId": "3cff63af-ef75-4c86-9ec2-2cdc97ec1eb4",
        "colab": {
          "base_uri": "https://localhost:8080/",
          "height": 316
        }
      },
      "source": [
        "import numpy as np\n",
        "import pandas as pd\n",
        "from sklearn.linear_model import LinearRegression\n",
        "\n",
        "data = pd.read_csv('./winequality-red.csv')\n",
        "X= data.loc[:,[\"density\"]].values\n",
        "y=data.alcohol.values\n",
        "regr = LinearRegression()\n",
        "regr.fit(X,y)\n",
        "print(\"w1=%s, w0= %s\"%(regr.coef_ [0],regr.intercept_))\n",
        "print(\"Phuong trinh hoi quy: y = x* %s+ %s\"%(regr.coef_ [0],regr.intercept_))\n",
        "x0 = np.linspace(0.99, 1.004, 10)\n",
        "w0 = regr.intercept_\n",
        "w1 = regr.coef_ [0]\n",
        "y0 = x0*w1 + w0\n",
        "plt.plot(X,y, \"bo\")\n",
        "plt.plot(x0,y0,\"-r\")\n",
        "plt.ylabel(\"alcohol\")\n",
        "plt.xlabel(\"density\")\n",
        "plt.show()"
      ],
      "execution_count": 0,
      "outputs": [
        {
          "output_type": "stream",
          "text": [
            "w1=-280.16382306826216, w0= 289.67534338256456\n",
            "Phuong trinh hoi quy: y = x* -280.16382306826216+ 289.67534338256456\n"
          ],
          "name": "stdout"
        },
        {
          "output_type": "display_data",
          "data": {
            "image/png": "[encoded data removed]",
            "text/plain": [
              "<Figure size 432x288 with 1 Axes>"
            ]
          },
          "metadata": {
            "tags": []
          }
        }
      ]
    },
    {
      "cell_type": "markdown",
      "metadata": {
        "id": "08fsF4GzyNob",
        "colab_type": "text"
      },
      "source": [
        "b)\n"
      ]
    },
    {
      "cell_type": "code",
      "metadata": {
        "id": "6A0yp5X3yQ-v",
        "colab_type": "code",
        "outputId": "0b09b775-8564-4517-8763-44c4ae9a0651",
        "colab": {
          "base_uri": "https://localhost:8080/",
          "height": 293
        }
      },
      "source": [
        "X= data.loc[:,[\"fixed acidity\",\n",
        "\"volatile acidity\",\n",
        "\"citric acid\",\n",
        "\"residual sugar\",\n",
        "\"chlorides\",\n",
        "\"free sulfur dioxide\",\n",
        "\"total sulfur dioxide\",\n",
        "\"density\",\n",
        "\"pH\",\n",
        "\"sulphates\",\n",
        "\"alcohol\"]].values\n",
        "y=data.quality.values\n",
        "regr = LinearRegression()\n",
        "regr.fit(X,y)\n",
        "print(\"w0= %s\"%(regr.intercept_))\n",
        "print(\"w*=%s\"%regr.coef_)\n",
        "for i in range(regr.coef_.shape[0]):\n",
        "  print(\"w%s= %s\"%(i+1, regr.coef_ [i]))"
      ],
      "execution_count": 0,
      "outputs": [
        {
          "output_type": "stream",
          "text": [
            "w0= 21.965208449451815\n",
            "w*=[ 2.49905527e-02 -1.08359026e+00 -1.82563948e-01  1.63312698e-02\n",
            " -1.87422516e+00  4.36133331e-03 -3.26457970e-03 -1.78811638e+01\n",
            " -4.13653144e-01  9.16334413e-01  2.76197699e-01]\n",
            "w1= 0.02499055267167722\n",
            "w2= -1.0835902586934363\n",
            "w3= -0.1825639484107164\n",
            "w4= 0.016331269765476095\n",
            "w5= -1.8742251580991887\n",
            "w6= 0.004361333309096549\n",
            "w7= -0.00326457970306826\n",
            "w8= -17.88116383249932\n",
            "w9= -0.41365314382174123\n",
            "w10= 0.9163344127211337\n",
            "w11= 0.2761976992268845\n"
          ],
          "name": "stdout"
        }
      ]
    },
    {
      "cell_type": "markdown",
      "metadata": {
        "id": "otk5EvQX12Kq",
        "colab_type": "text"
      },
      "source": [
        "Bai 4\n"
      ]
    },
    {
      "cell_type": "code",
      "metadata": {
        "id": "jVJZonUA138N",
        "colab_type": "code",
        "outputId": "4133c062-8155-4c68-b2da-b304a8e60b83",
        "colab": {
          "base_uri": "https://localhost:8080/",
          "height": 348
        }
      },
      "source": [
        "import matplotlib.pyplot as plt\n",
        "from sklearn.linear_model import LinearRegression\n",
        "from sklearn import datasets\n",
        "\n",
        "housing = datasets.load_boston()\n",
        "\n",
        "X = housing.data\n",
        "y = housing.target\n",
        "regr = LinearRegression()\n",
        "regr.fit(X,y)\n",
        "print(\"w0= %s\"%(regr.intercept_))\n",
        "print(\"w*=%s\"%regr.coef_)\n",
        "for i in range(regr.coef_.shape[0]):\n",
        "  print(\"w%s= %s\"%(i+1, regr.coef_ [i]))"
      ],
      "execution_count": 0,
      "outputs": [
        {
          "output_type": "stream",
          "text": [
            "w0= 36.459488385090125\n",
            "w*=[-1.08011358e-01  4.64204584e-02  2.05586264e-02  2.68673382e+00\n",
            " -1.77666112e+01  3.80986521e+00  6.92224640e-04 -1.47556685e+00\n",
            "  3.06049479e-01 -1.23345939e-02 -9.52747232e-01  9.31168327e-03\n",
            " -5.24758378e-01]\n",
            "w1= -0.10801135783679545\n",
            "w2= 0.04642045836688176\n",
            "w3= 0.02055862636707862\n",
            "w4= 2.6867338193448966\n",
            "w5= -17.766611228300167\n",
            "w6= 3.809865206809212\n",
            "w7= 0.0006922246403425021\n",
            "w8= -1.475566845600255\n",
            "w9= 0.30604947898517226\n",
            "w10= -0.01233459391657437\n",
            "w11= -0.9527472317072923\n",
            "w12= 0.009311683273793711\n",
            "w13= -0.5247583778554923\n"
          ],
          "name": "stdout"
        }
      ]
    },
    {
      "cell_type": "markdown",
      "metadata": {
        "id": "C9qKvIbx7zt1",
        "colab_type": "text"
      },
      "source": [
        "Bai 5\n"
      ]
    },
    {
      "cell_type": "code",
      "metadata": {
        "id": "hj-MK2S071Wv",
        "colab_type": "code",
        "outputId": "5a4948c3-84f9-4ed4-c976-2a3e27aa8646",
        "colab": {
          "base_uri": "https://localhost:8080/",
          "height": 90
        }
      },
      "source": [
        "import numpy as np\n",
        "import matplotlib.pyplot as plt\n",
        "from sklearn import neighbors, datasets\n",
        "from sklearn.model_selection import train_test_split\n",
        "# Set dataset 'iris'\n",
        "iris = datasets.load_iris()\n",
        "iris_X = iris.data\n",
        "iris_y = iris.target\n",
        "\n",
        "X_train, X_test, y_train, y_test = train_test_split(\n",
        "     iris_X, iris_y)\n",
        "\n",
        "knn = neighbors.KNeighborsClassifier(n_neighbors = 3, p = 2)\n",
        "knn.fit(X_train, y_train)\n",
        "y_predict = knn.predict(X_test)\n",
        "\n",
        "print (\"Du lieu du doan: \", y_predict)\n",
        "print (\"Du lieu that   : \", y_test)"
      ],
      "execution_count": 1,
      "outputs": [
        {
          "output_type": "stream",
          "text": [
            "Du lieu du doan:  [2 1 0 0 1 0 1 0 1 1 2 2 1 0 1 0 1 2 1 1 2 2 1 2 0 1 0 0 2 1 2 1 0 1 0 0 1\n",
            " 0]\n",
            "Du lieu that   :  [2 1 0 0 1 0 1 0 1 1 2 2 1 0 2 0 1 2 1 1 2 2 1 2 0 1 0 0 2 1 2 2 0 1 0 0 1\n",
            " 0]\n"
          ],
          "name": "stdout"
        }
      ]
    }
  ]
}